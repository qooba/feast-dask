{
 "cells": [
  {
   "cell_type": "code",
   "execution_count": null,
   "metadata": {
    "slideshow": {
     "slide_type": "skip"
    }
   },
   "outputs": [],
   "source": [
    "%cd /home/jovyan/feast-dask\n",
    "from IPython.core.display import HTML\n",
    "HTML(\"\"\"\n",
    "<link rel=\"stylesheet\" type=\"text/css\" href=\"//fonts.googleapis.com/css?family=Bangers\" />\n",
    "<style>\n",
    "h1 {font-family: Bangers !important;}\n",
    "h2 {font-family: Bangers !important;}\n",
    "h3 {font-family: Bangers !important;}\n",
    "h4 {font-family: Bangers !important;}\n",
    "h5 {font-family: Bangers !important;}\n",
    ".controls\n",
    "{\n",
    "    display: none !important;\n",
    "}\n",
    "\n",
    ".slide-number\n",
    "{\n",
    "    display: none !important;\n",
    "}\n",
    "</style>\n",
    "\"\"\")"
   ]
  },
  {
   "cell_type": "markdown",
   "metadata": {
    "slideshow": {
     "slide_type": "slide"
    }
   },
   "source": [
    "## DOCKER"
   ]
  },
  {
   "cell_type": "code",
   "execution_count": null,
   "metadata": {
    "slideshow": {
     "slide_type": "-"
    }
   },
   "outputs": [],
   "source": [
    "!docker run --name feast -d --rm -p 8888:8888 -p 8787:8787 qooba/feast:dask"
   ]
  },
  {
   "cell_type": "markdown",
   "metadata": {
    "slideshow": {
     "slide_type": "slide"
    }
   },
   "source": [
    "# Generate data"
   ]
  },
  {
   "cell_type": "code",
   "execution_count": null,
   "metadata": {
    "slideshow": {
     "slide_type": "slide"
    }
   },
   "outputs": [],
   "source": [
    "import pandas as pd\n",
    "import dask.dataframe as dd\n",
    "import numpy as np\n",
    "from datetime import datetime, timezone\n",
    "from sklearn.datasets import make_hastie_10_2\n",
    "import warnings\n",
    "warnings.filterwarnings(\"ignore\", category=DeprecationWarning)"
   ]
  },
  {
   "cell_type": "code",
   "execution_count": null,
   "metadata": {
    "slideshow": {
     "slide_type": "-"
    }
   },
   "outputs": [],
   "source": [
    "def generate_entities(size):\n",
    "    return np.random.choice(size, size=size, replace=False)"
   ]
  },
  {
   "cell_type": "code",
   "execution_count": null,
   "metadata": {
    "slideshow": {
     "slide_type": "fragment"
    }
   },
   "outputs": [],
   "source": [
    "def generate_data(entities, year=2021, month=10, day=1) -> pd.DataFrame:\n",
    "    n_samples=len(entities)\n",
    "    X, y = make_hastie_10_2(n_samples=n_samples, random_state=0)\n",
    "    df = pd.DataFrame(X, columns=[\"f0\", \"f1\", \"f2\", \"f3\", \"f4\", \"f5\", \"f6\", \"f7\", \"f8\", \"f9\"])\n",
    "    df[\"y\"]=y\n",
    "    df['entity_id'] = entities\n",
    "    df['datetime'] = pd.to_datetime(\n",
    "            np.random.randint(\n",
    "                datetime(year, month, day, 0,tzinfo=timezone.utc).timestamp(),\n",
    "                datetime(year, month, day, 22,tzinfo=timezone.utc).timestamp(),\n",
    "                size=n_samples),\n",
    "        unit=\"s\", utc=True\n",
    "    )\n",
    "    df['created'] = pd.to_datetime(datetime.now())\n",
    "    return df"
   ]
  },
  {
   "cell_type": "code",
   "execution_count": null,
   "metadata": {
    "slideshow": {
     "slide_type": "slide"
    }
   },
   "outputs": [],
   "source": [
    "entities=generate_entities(1000000)"
   ]
  },
  {
   "cell_type": "code",
   "execution_count": null,
   "metadata": {
    "slideshow": {
     "slide_type": "fragment"
    }
   },
   "outputs": [],
   "source": [
    "entity_df = pd.DataFrame(data=entities, columns=['entity_id'])\n",
    "entity_df[\"event_timestamp\"]=datetime(2021, 1, 14, 23, 59, 42, tzinfo=timezone.utc)\n",
    "#entity_df=entity_df[entity_df.entity_id < 500]\n",
    "entity_df"
   ]
  },
  {
   "cell_type": "code",
   "execution_count": null,
   "metadata": {
    "slideshow": {
     "slide_type": "slide"
    }
   },
   "outputs": [],
   "source": [
    "all_data=[]\n",
    "\n",
    "for d in range(1,15):\n",
    "    data=generate_data(entities,month=1, day=d)\n",
    "    all_data.append(data)\n",
    "        \n",
    "all_dd=pd.concat(all_data)\n",
    "all_dd.set_index('datetime')\n",
    "all_dd.to_parquet(\"./all_data.parquet\")\n",
    "all_dd"
   ]
  },
  {
   "cell_type": "markdown",
   "metadata": {
    "slideshow": {
     "slide_type": "slide"
    }
   },
   "source": [
    "# Feast"
   ]
  },
  {
   "cell_type": "code",
   "execution_count": null,
   "metadata": {
    "slideshow": {
     "slide_type": "slide"
    }
   },
   "outputs": [],
   "source": [
    "%%writefile feature_store.yaml\n",
    "project: default\n",
    "registry: data/registry.db\n",
    "provider: local\n",
    "online_store:\n",
    "    path: data/online_store.db"
   ]
  },
  {
   "cell_type": "code",
   "execution_count": null,
   "metadata": {
    "slideshow": {
     "slide_type": "slide"
    }
   },
   "outputs": [],
   "source": [
    "%%writefile features.py\n",
    "from google.protobuf.duration_pb2 import Duration\n",
    "from feast import Entity, Feature, FeatureView, ValueType\n",
    "from feast import FileSource\n",
    "from feast.data_format import ParquetFormat\n",
    "\n",
    "my_stats = FileSource(\n",
    "    path=\"./all_data.parquet\",\n",
    "    event_timestamp_column=\"datetime\",\n",
    ")\n",
    "my_entity = Entity(name=\"entity_id\", value_type=ValueType.INT64, description=\"entity id\",)\n",
    "mystats_view = FeatureView(\n",
    "    name=\"my_statistics\",\n",
    "    entities=[\"entity_id\"],\n",
    "    ttl=Duration(seconds=3600*24*20),\n",
    "    features=[\n",
    "        Feature(name=\"f0\", dtype=ValueType.FLOAT),\n",
    "        Feature(name=\"f1\", dtype=ValueType.FLOAT),\n",
    "        Feature(name=\"f2\", dtype=ValueType.FLOAT),\n",
    "        Feature(name=\"f3\", dtype=ValueType.FLOAT),\n",
    "        Feature(name=\"f4\", dtype=ValueType.FLOAT),\n",
    "        Feature(name=\"f5\", dtype=ValueType.FLOAT),\n",
    "        Feature(name=\"f6\", dtype=ValueType.FLOAT),\n",
    "        Feature(name=\"f7\", dtype=ValueType.FLOAT),\n",
    "        Feature(name=\"f8\", dtype=ValueType.FLOAT),\n",
    "        Feature(name=\"f9\", dtype=ValueType.FLOAT),\n",
    "        Feature(name=\"y\", dtype=ValueType.FLOAT),\n",
    "    ], online=True, input=my_stats, tags={},)"
   ]
  },
  {
   "cell_type": "code",
   "execution_count": null,
   "metadata": {
    "slideshow": {
     "slide_type": "slide"
    }
   },
   "outputs": [],
   "source": [
    "!rm -r .ipynb_checkpoints\n",
    "!feast apply"
   ]
  },
  {
   "cell_type": "code",
   "execution_count": null,
   "metadata": {
    "slideshow": {
     "slide_type": "slide"
    }
   },
   "outputs": [],
   "source": [
    "!pip install feast-schema"
   ]
  },
  {
   "cell_type": "code",
   "execution_count": null,
   "metadata": {
    "slideshow": {
     "slide_type": "fragment"
    }
   },
   "outputs": [],
   "source": [
    "from feast_schema import FeastSchema\n",
    "FeastSchema(\".\").show_schema()"
   ]
  },
  {
   "cell_type": "markdown",
   "metadata": {
    "slideshow": {
     "slide_type": "slide"
    }
   },
   "source": [
    "# dask cluster"
   ]
  },
  {
   "cell_type": "code",
   "execution_count": null,
   "metadata": {
    "slideshow": {
     "slide_type": "slide"
    }
   },
   "outputs": [],
   "source": [
    "%%writefile run_dask.sh\n",
    "\n",
    "dask-scheduler --host 0.0.0.0 --port 8786 --bokeh-port 8787 &\n",
    "\n",
    "\n",
    "dask-worker --host 0.0.0.0 0.0.0.0:8786 --worker-port 8701 &\n",
    "dask-worker --host 0.0.0.0 0.0.0.0:8786 --worker-port 8702 &\n",
    "dask-worker --host 0.0.0.0 0.0.0.0:8786 --worker-port 8703 &\n",
    "dask-worker --host 0.0.0.0 0.0.0.0:8786 --worker-port 8704 &\n"
   ]
  },
  {
   "cell_type": "code",
   "execution_count": null,
   "metadata": {
    "slideshow": {
     "slide_type": "fragment"
    }
   },
   "outputs": [],
   "source": [
    "!bash ./run_dask.sh"
   ]
  },
  {
   "cell_type": "code",
   "execution_count": null,
   "metadata": {
    "slideshow": {
     "slide_type": "fragment"
    }
   },
   "outputs": [],
   "source": [
    "from dask.distributed import Client\n",
    "\n",
    "client = Client(\"tcp://0.0.0.0:8786\")\n",
    "client"
   ]
  },
  {
   "cell_type": "markdown",
   "metadata": {
    "slideshow": {
     "slide_type": "slide"
    }
   },
   "source": [
    "# Feast historical features"
   ]
  },
  {
   "cell_type": "code",
   "execution_count": null,
   "metadata": {
    "slideshow": {
     "slide_type": "slide"
    }
   },
   "outputs": [],
   "source": [
    "%%time\n",
    "from feast import FeatureStore\n",
    "\n",
    "store = FeatureStore(repo_path=\".\")\n",
    "\n",
    "training_df = store.get_historical_features(\n",
    "    entity_df=entity_df, \n",
    "    feature_refs = [\n",
    "        'my_statistics:f0',\n",
    "        'my_statistics:f1',\n",
    "        'my_statistics:f2',\n",
    "        'my_statistics:f3',\n",
    "        'my_statistics:f4',\n",
    "        'my_statistics:f5',\n",
    "        'my_statistics:f6',\n",
    "        'my_statistics:f7',\n",
    "        'my_statistics:f8',\n",
    "        'my_statistics:f9',\n",
    "        'my_statistics:y',\n",
    "    ],\n",
    ").to_df()\n",
    "training_df"
   ]
  },
  {
   "cell_type": "markdown",
   "metadata": {
    "slideshow": {
     "slide_type": "slide"
    }
   },
   "source": [
    "# FEAST BENCHMARK (pandas vs dask)"
   ]
  },
  {
   "cell_type": "markdown",
   "metadata": {
    "slideshow": {
     "slide_type": "slide"
    }
   },
   "source": [
    "### pandas\n",
    "```\n",
    "CPU times: user 2min 51s, sys: 6.64 s, total: 2min 57s\n",
    "Wall time: 2min 52s\n",
    "```\n",
    "\n",
    "### dask\n",
    "```\n",
    "CPU times: user 206 ms, sys: 25.9 ms, total: 232 ms\n",
    "Wall time: 10.4 s\n",
    "```"
   ]
  },
  {
   "cell_type": "markdown",
   "metadata": {
    "slideshow": {
     "slide_type": "slide"
    }
   },
   "source": [
    "# Train model "
   ]
  },
  {
   "cell_type": "code",
   "execution_count": null,
   "metadata": {
    "slideshow": {
     "slide_type": "slide"
    }
   },
   "outputs": [],
   "source": [
    "type(training_df)"
   ]
  },
  {
   "cell_type": "code",
   "execution_count": null,
   "metadata": {
    "slideshow": {
     "slide_type": "fragment"
    }
   },
   "outputs": [],
   "source": [
    "from feast import FeatureStore\n",
    "\n",
    "store = FeatureStore(repo_path=\".\")\n",
    "\n",
    "training_dd = store.get_historical_features(\n",
    "    entity_df=entity_df, \n",
    "    feature_refs = [\n",
    "        'my_statistics:f0',\n",
    "        'my_statistics:f1',\n",
    "        'my_statistics:f2',\n",
    "        'my_statistics:f3',\n",
    "        'my_statistics:f4',\n",
    "        'my_statistics:f5',\n",
    "        'my_statistics:f6',\n",
    "        'my_statistics:f7',\n",
    "        'my_statistics:f8',\n",
    "        'my_statistics:f9',\n",
    "        'my_statistics:y',\n",
    "    ],\n",
    ").evaluation_function()\n",
    "type(training_dd)"
   ]
  },
  {
   "cell_type": "code",
   "execution_count": null,
   "metadata": {
    "slideshow": {
     "slide_type": "slide"
    }
   },
   "outputs": [],
   "source": [
    "import joblib\n",
    "from sklearn.ensemble import GradientBoostingClassifier\n",
    "from dask_ml.model_selection import train_test_split\n",
    "\n",
    "predictors = training_dd[[\"f0\",\"f1\",\"f2\",\"f3\",\"f4\",\"f5\",\"f6\",\"f7\",\"f8\",\"f9\"]]\n",
    "targets = training_dd[[\"y\"]]\n",
    "\n",
    "X_train, X_test, y_train, y_test = train_test_split(predictors, targets, test_size=.3)\n",
    "\n",
    "with joblib.parallel_backend('dask'):\n",
    "    clf = GradientBoostingClassifier(n_estimators=100, learning_rate=1.0,\n",
    "        max_depth=1, random_state=0, verbose=1).fit(X_train, y_train)\n",
    "\n",
    "    score=clf.score(X_test, y_test)\n",
    "    \n",
    "score"
   ]
  },
  {
   "cell_type": "markdown",
   "metadata": {
    "slideshow": {
     "slide_type": "slide"
    }
   },
   "source": [
    "# Feast Materialization "
   ]
  },
  {
   "cell_type": "code",
   "execution_count": null,
   "metadata": {
    "slideshow": {
     "slide_type": "slide"
    }
   },
   "outputs": [],
   "source": [
    "%%time\n",
    "from feast import FeatureStore\n",
    "from datetime import datetime, timedelta\n",
    "from feast import flags, flags_helper, utils\n",
    "\n",
    "start_date=utils.make_tzaware(datetime.fromisoformat('2020-01-03T14:30:00'))\n",
    "end_date=utils.make_tzaware(datetime.fromisoformat('2022-01-03T14:30:00'))\n",
    "\n",
    "store = FeatureStore(repo_path=\".\")\n",
    "\n",
    "store.materialize(start_date=start_date,end_date=end_date)"
   ]
  },
  {
   "cell_type": "markdown",
   "metadata": {
    "slideshow": {
     "slide_type": "slide"
    }
   },
   "source": [
    "## CODE\n",
    "https://github.com/qooba/feast/tree/feature/dask \n",
    "\n",
    "## FEAST PR\n",
    "\n",
    "https://github.com/feast-dev/feast/pull/1954\n"
   ]
  }
 ],
 "metadata": {
  "celltoolbar": "Slideshow",
  "jupytext": {
   "formats": "ipynb"
  },
  "kernelspec": {
   "display_name": "Python 3 (ipykernel)",
   "language": "python",
   "name": "python3"
  },
  "language_info": {
   "codemirror_mode": {
    "name": "ipython",
    "version": 3
   },
   "file_extension": ".py",
   "mimetype": "text/x-python",
   "name": "python",
   "nbconvert_exporter": "python",
   "pygments_lexer": "ipython3",
   "version": "3.8.12"
  },
  "rise": {
   "autolaunch": true,
   "slideNumber": "c/t"
  }
 },
 "nbformat": 4,
 "nbformat_minor": 4
}
